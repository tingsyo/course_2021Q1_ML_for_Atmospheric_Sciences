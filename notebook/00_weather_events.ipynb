{
 "cells": [
  {
   "cell_type": "markdown",
   "metadata": {},
   "source": [
    "## Deriving Daily Precipitation from CWB Weather Station Records\n",
    "\n",
    "In this notebook, we are going to prepare **daily precipitation** data from [Central Weather Beureau (CWB)](https://www.cwb.gov.tw/) weather station records.\n",
    "\n",
    "First we need to define **daily precipitation**, because the CWB precipitation were recorded in hourly basis. The simplest way to define daily rainfall is to sum up the precipitation of each hour and to let missing records as 0.\n"
   ]
  },
  {
   "cell_type": "code",
   "execution_count": null,
   "metadata": {},
   "outputs": [],
   "source": []
  }
 ],
 "metadata": {
  "kernelspec": {
   "display_name": "Python 3",
   "language": "python",
   "name": "python3"
  },
  "language_info": {
   "codemirror_mode": {
    "name": "ipython",
    "version": 3
   },
   "file_extension": ".py",
   "mimetype": "text/x-python",
   "name": "python",
   "nbconvert_exporter": "python",
   "pygments_lexer": "ipython3",
   "version": "3.7.9"
  }
 },
 "nbformat": 4,
 "nbformat_minor": 4
}

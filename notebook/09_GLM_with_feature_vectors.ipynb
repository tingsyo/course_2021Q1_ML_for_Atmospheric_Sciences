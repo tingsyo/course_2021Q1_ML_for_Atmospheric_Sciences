{
 "cells": [
  {
   "cell_type": "markdown",
   "id": "997b6652",
   "metadata": {},
   "source": [
    "# Using Generalized Linear Model with Feature Vectors for Event Detections\n",
    "\n",
    "Finally, we are now using the **feature vectors** described in the [previous notebook](https://github.com/tingsyo/dlgridsat/blob/main/notebook/08_DataFlow_for_Experiments.ipynb) along with the [**Generalized Linear Model**](https://en.wikipedia.org/wiki/Generalized_linear_model) to detect and to predict the events described in the [other notebook](https://github.com/tingsyo/dlgridsat/blob/main/notebook/00_weather_events.ipynb).\n",
    "\n",
    "\n",
    "## Define the terms\n",
    "\n",
    "### Weather Events\n",
    "\n",
    "- **HRD**: Precip >= 40mm/day\n",
    "- **HRH**: Precip >= 10mm/hr\n",
    "- **CS**: 寒潮，台北測站24小時內有任一小時10度C以下\n",
    "- **TYW**: 中央氣象局發布颱風警報\n",
    "- **NWPTC**: 西北太平洋地區有熱帶氣旋\n",
    "- **FT**: 中央氣象局地面天氣圖，2000年以後以00Z代表\n",
    "- **NE**: 彭佳嶼測站日平均風向為東北風(15-75度)及風速達4m/s\n",
    "- **SWF**: CFSR 850hPa 紅色區域內 u平均>0並且v平均>0並且平均風達3m/s 或者 >6m/s的風速範圍站紅色區域30%\n",
    "\n",
    "\n",
    "### Feature Vectors\n",
    "\n",
    "- **PCA** : Principle Component Analysis with 2,048 components.\n",
    "- **CAE** : Convolutional Auto-Encoder encoded vectors, with a length of 2,048.\n",
    "- **CVAE**: Variational Auto-Encoder encoded vectors, with a length of 2,048.\n",
    "- **PTBE**: [ResNet50 pre-trained with Big-Earth dataset](https://tfhub.dev/google/remote_sensing/bigearthnet-resnet50/1), with a length of 2,048.\n",
    "- **PTIN**: [ResNet50 pre-trained with ImageNet dataset](https://tfhub.dev/tensorflow/resnet_50/feature_vector/1), with a length of 2,048.\n",
    "\n",
    "\n",
    "## Data Partition\n",
    "\n",
    "We keep the year 2016 for validation, and 2013~2015 for training and development. For Training and development, we use cross-validation for model tuning.\n",
    "\n",
    "### Event Dataset\n"
   ]
  },
  {
   "cell_type": "code",
   "execution_count": null,
   "id": "9eace233",
   "metadata": {},
   "outputs": [],
   "source": []
  }
 ],
 "metadata": {
  "kernelspec": {
   "display_name": "Python 3",
   "language": "python",
   "name": "python3"
  },
  "language_info": {
   "codemirror_mode": {
    "name": "ipython",
    "version": 3
   },
   "file_extension": ".py",
   "mimetype": "text/x-python",
   "name": "python",
   "nbconvert_exporter": "python",
   "pygments_lexer": "ipython3",
   "version": "3.7.10"
  }
 },
 "nbformat": 4,
 "nbformat_minor": 5
}

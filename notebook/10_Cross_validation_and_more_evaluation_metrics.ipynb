{
 "cells": [
  {
   "cell_type": "markdown",
   "id": "75887f90",
   "metadata": {},
   "source": [
    "In this notebook, we follow the pilot test noted in the [previous notebook](https://github.com/tingsyo/dlgridsat/blob/main/notebook/09_GLM_with_feature_vectors.ipynb), and wrap up the process with:\n",
    "- [cross validation](https://scikit-learn.org/stable/modules/cross_validation.html),\n",
    "- more detailed [evaluation metrics](https://en.wikipedia.org/wiki/Confusion_matrix), and\n",
    "- looping through event-types and feature-vector-types."
   ]
  },
  {
   "cell_type": "code",
   "execution_count": 1,
   "id": "9445bd47",
   "metadata": {},
   "outputs": [
    {
     "name": "stdout",
     "output_type": "stream",
     "text": [
      "(1461, 8)\n",
      "CS\t counts: 12\t prob:0.008213552361396304\n",
      "TYW\t counts: 65.0\t prob:0.044490075290896644\n",
      "NWPTY\t counts: 702\t prob:0.4804928131416838\n",
      "FT\t counts: 244\t prob:0.16700889801505817\n",
      "NE\t counts: 471\t prob:0.32238193018480493\n",
      "SWF\t counts: 406\t prob:0.2778918548939083\n",
      "HRD\t counts: 420\t prob:0.2874743326488706\n",
      "HRH\t counts: 520\t prob:0.35592060232717315\n",
      "(1461, 8)\n",
      "(1461, 2048)\n"
     ]
    }
   ],
   "source": [
    "import numpy as np\n",
    "import pandas as pd\n",
    "import os, re, logging\n",
    "\n",
    "logging.basicConfig(level=logging.DEBUG)\n",
    "\n",
    "# Parameters\n",
    "FV_NAMES = ['PCA', 'CAE', 'CVAE', 'Pretrained-BigEarth', 'Pretrained-ImageNet']\n",
    "FV_FILES = ['fv_pca.zip', 'fv_cae.zip', 'fv_cvae.zip', 'fv_ptbe.zip', 'fv_ptin.zip']\n",
    "EVENT_NAMES = []\n",
    "EVENT_FILE = 'tad_filtered.csv'\n",
    "CV_FOLD = 10\n",
    "DATAPATH = '../data/'\n",
    "\n",
    "\n",
    "# Read events\n",
    "def read_events(file, verbose=0):\n",
    "    events = pd.read_csv(file, index_col=0)\n",
    "    if verbose>0:\n",
    "        print(events.shape)\n",
    "        for c in events.columns:\n",
    "            print(c + '\\t counts: ' + str(events[c].sum()) + \n",
    "                         '\\t prob:' + str(events[c].sum()/events.shape[0]))\n",
    "    return(events)\n",
    "\n",
    "\n",
    "# Function to give report for binary classifications\n",
    "def evaluate_binary(yt, yp, id=None, ythresh=1.):\n",
    "    from sklearn.metrics import confusion_matrix\n",
    "    ytb = (yt>=ythresh)*1\n",
    "    ypb = (yp>=ythresh)*1\n",
    "    # Derive metrics\n",
    "    output = {'id':id}\n",
    "    TN, FP, FN, TP = confusion_matrix(ytb, ypb).ravel()\n",
    "    output['true_positive'] = np.round(TP,2)\n",
    "    output['false_positive'] = np.round(FP,2)\n",
    "    output['false_negative'] = np.round(FN,2)\n",
    "    output['true_negative'] = np.round(TN,2)\n",
    "    output['sensitivity'] = np.round(TP/(TP+FN),2)\n",
    "    output['specificity'] = np.round(TN/(FP+TN),2)\n",
    "    output['prevalence'] = np.round((TP+FN)/(FN+TP+FP+TN),8)\n",
    "    output['ppv'] = np.round(TP/(TP+FP),4)\n",
    "    output['npv'] = np.round(TN/(TN+FN),4)\n",
    "    output['fpr'] = np.round(FP/(FP+TN),4)\n",
    "    output['threat_score'] = np.round(TP/(TP+FP+FN),4)\n",
    "    output['accuracy'] = np.round((TP+TN)/(FN+TP+FP+TN),4)\n",
    "    output['balanced_accuracy'] = np.round((TP/(TP+FN) + TN/(FP+TN))*0.5,4)\n",
    "    output['F1'] = np.round(2*TP/(2*TP+FP+FN),4)\n",
    "    output['MCC'] = np.round((TP*TN-FP*FN)/np.sqrt((TP+FP)*(TP+FN)*(TN+FP)*(TN+FN)),4)\n",
    "    output['informedness'] = np.round(output['sensitivity'] + output['specificity'] - 1,4)\n",
    "    output['markedness'] = np.round(output['ppv'] + output['npv'] -1,4)\n",
    "    return(output)\n",
    "\n",
    "# Test\n",
    "events = read_events(DATAPATH+EVENT_FILE, verbose=1)\n",
    "fv = pd.read_csv(DATAPATH+FV_FILES[0], compression='zip', index_col=0)\n",
    "print(events.shape)\n",
    "print(fv.shape)"
   ]
  },
  {
   "cell_type": "code",
   "execution_count": 2,
   "id": "93c173dd",
   "metadata": {},
   "outputs": [
    {
     "name": "stdout",
     "output_type": "stream",
     "text": [
      "Dropping rows containing NaNs: 13\n",
      "Class distributions (0,1) in CV folds:\n",
      "train -  [826 332]   |   test -  [206  84]\n",
      "train -  [825 333]   |   test -  [207  83]\n",
      "train -  [825 333]   |   test -  [207  83]\n",
      "train -  [826 333]   |   test -  [206  83]\n",
      "train -  [826 333]   |   test -  [206  83]\n"
     ]
    }
   ],
   "source": [
    "# Clean up NAs\n",
    "def clean_nans(x, y):\n",
    "    # Merge x and y by index\n",
    "    data = pd.merge(y, x, left_index=True, right_index=True)\n",
    "    nrow_original = data.shape[0]\n",
    "    # Drop NaNs\n",
    "    data = data.dropna(axis=0, how='any')\n",
    "    nrow_dropna = data.shape[0]\n",
    "    # Retrieve original index as dates and reset\n",
    "    dates = data.index\n",
    "    data = data.reset_index(drop=True)\n",
    "    print('Dropping rows containing NaNs: ' + str(nrow_original - nrow_dropna))\n",
    "    y = data.iloc[:,0]\n",
    "    x = data.iloc[:,1:]\n",
    "    return((x, y, dates))\n",
    "\n",
    "# Create cross validation folds\n",
    "def create_cv_folds(x, y, kfold=5, randseed=123):\n",
    "    from sklearn.model_selection import StratifiedKFold, KFold\n",
    "    # clean up nans\n",
    "    x, y, dates = clean_nans(x, y)\n",
    "    # Create CV\n",
    "    skf = StratifiedKFold(n_splits=kfold, shuffle=True, random_state=randseed)\n",
    "    splits = skf.split(x, y)\n",
    "    # \n",
    "    return((splits, x, y, dates))\n",
    "\n",
    "# Test\n",
    "splits, x, y, dates = create_cv_folds(x=fv, y=events['HRD'])\n",
    "\n",
    "print('Class distributions (0,1) in CV folds:')\n",
    "for train, test in splits:\n",
    "    print('train -  {}   |   test -  {}'\n",
    "          .format(np.bincount(y[train]), np.bincount(y[test])))"
   ]
  },
  {
   "cell_type": "markdown",
   "id": "70a98019",
   "metadata": {},
   "source": [
    "Thus, we can create CV folds and iterate through them.\n",
    "\n",
    "The package `scikit-learn` provides a faster way to perform such task with [`sklearn.model_selection.cross_val_predict`](https://scikit-learn.org/stable/modules/generated/sklearn.model_selection.cross_val_predict.html) and [`sklearn.model_selection.cross_validate`](https://scikit-learn.org/stable/modules/generated/sklearn.model_selection.cross_validate.html#sklearn.model_selection.cross_validate). We can directly get the predictions with CV with this function, and then get evaluations.\n"
   ]
  },
  {
   "cell_type": "code",
   "execution_count": 18,
   "id": "e020d500",
   "metadata": {},
   "outputs": [
    {
     "name": "stdout",
     "output_type": "stream",
     "text": [
      "Dropping rows containing NaNs: 13\n",
      "{'id': 'PCA-HRD', 'true_positive': 156, 'false_positive': 210, 'false_negative': 260, 'true_negative': 822, 'sensitivity': 0.38, 'specificity': 0.8, 'prevalence': 0.28729282, 'ppv': 0.4262, 'npv': 0.7597, 'fpr': 0.2035, 'threat_score': 0.2492, 'accuracy': 0.6754, 'balanced_accuracy': 0.5858, 'F1': 0.399, 'MCC': 0.1786, 'informedness': 0.18, 'markedness': 0.1859}\n",
      "{'fit_time': array([0.19704795, 0.2200613 , 0.22205424, 0.20004654, 0.19805074,\n",
      "       0.18904567, 0.19404793, 0.20804834, 0.20904827, 0.21905065]), 'score_time': array([0.02500248, 0.02399397, 0.02400184, 0.02300429, 0.02299953,\n",
      "       0.02300191, 0.02300262, 0.02300429, 0.02300525, 0.02300501]), 'test_accuracy': array([0.67586207, 0.69655172, 0.67586207, 0.69655172, 0.65517241,\n",
      "       0.68275862, 0.64137931, 0.65517241, 0.66666667, 0.70833333]), 'train_accuracy': array([1., 1., 1., 1., 1., 1., 1., 1., 1., 1.]), 'test_recall': array([0.38095238, 0.33333333, 0.42857143, 0.38095238, 0.38095238,\n",
      "       0.28571429, 0.3902439 , 0.26829268, 0.43902439, 0.46341463]), 'train_recall': array([1., 1., 1., 1., 1., 1., 1., 1., 1., 1.]), 'test_precision': array([0.43243243, 0.46666667, 0.43902439, 0.47058824, 0.4       ,\n",
      "       0.42857143, 0.37209302, 0.35483871, 0.41860465, 0.48717949]), 'train_precision': array([1., 1., 1., 1., 1., 1., 1., 1., 1., 1.]), 'test_roc_auc': array([0.62367083, 0.64909847, 0.6874711 , 0.69001387, 0.63476653,\n",
      "       0.5309755 , 0.55089118, 0.62335835, 0.67842766, 0.63035757]), 'train_roc_auc': array([1., 1., 1., 1., 1., 1., 1., 1., 1., 1.]), 'test_f1': array([0.40506329, 0.38888889, 0.43373494, 0.42105263, 0.3902439 ,\n",
      "       0.34285714, 0.38095238, 0.30555556, 0.42857143, 0.475     ]), 'train_f1': array([1., 1., 1., 1., 1., 1., 1., 1., 1., 1.])}\n"
     ]
    }
   ],
   "source": [
    "# Evaluate one FV-Event pair\n",
    "def evaluate_fv_event_pair(fv, event, fv_id=None, kfold=5, randseed=123):\n",
    "    from sklearn.model_selection import StratifiedKFold\n",
    "    from sklearn.linear_model import LogisticRegression\n",
    "    from sklearn.model_selection import cross_val_predict, cross_validate\n",
    "    # Create CV folds\n",
    "    x, y, dates = clean_nans(x=fv, y=events['HRD'])\n",
    "    skf = StratifiedKFold(n_splits=kfold, shuffle=True, random_state=randseed)\n",
    "    clf = LogisticRegression(random_state=0, max_iter=1000)\n",
    "    # \n",
    "    y_pred = cross_val_predict(clf, x, y, cv=skf)\n",
    "    eval_all = evaluate_binary(y, y_pred, id=fv_id)\n",
    "    print(eval_all)\n",
    "    # \n",
    "    eval_cv = cross_validate(clf, x, y, cv=skf, return_train_score=True,\n",
    "                             scoring=['accuracy', 'recall', 'precision', 'roc_auc', 'f1'])\n",
    "    print(eval_cv)\n",
    "    return(eval_all, eval_cv)\n",
    "\n",
    "\n",
    "# test\n",
    "eval_all, eval_cv = evaluate_fv_event_pair(fv, events['HRD'], fv_id='PCA-HRD', kfold=10)"
   ]
  },
  {
   "cell_type": "code",
   "execution_count": 20,
   "id": "2af86002",
   "metadata": {},
   "outputs": [
    {
     "name": "stdout",
     "output_type": "stream",
     "text": [
      "fit_time_mean\t0.2057\n",
      "fit_time_std\t0.0112\n",
      "score_time_mean\t0.0234\n",
      "score_time_std\t0.0007\n",
      "test_accuracy_mean\t0.6754\n",
      "test_accuracy_std\t0.0202\n",
      "train_accuracy_mean\t1.0\n",
      "train_accuracy_std\t0.0\n",
      "test_recall_mean\t0.3751\n",
      "test_recall_std\t0.0602\n",
      "train_recall_mean\t1.0\n",
      "train_recall_std\t0.0\n",
      "test_precision_mean\t0.427\n",
      "test_precision_std\t0.0404\n",
      "train_precision_mean\t1.0\n",
      "train_precision_std\t0.0\n",
      "test_roc_auc_mean\t0.6299\n",
      "test_roc_auc_std\t0.0508\n",
      "train_roc_auc_mean\t1.0\n",
      "train_roc_auc_std\t0.0\n",
      "test_f1_mean\t0.3972\n",
      "test_f1_std\t0.0455\n",
      "train_f1_mean\t1.0\n",
      "train_f1_std\t0.0\n"
     ]
    }
   ],
   "source": [
    "for k in eval_cv.keys():\n",
    "    print(k+'_mean'+ '\\t' + str(np.round(np.mean(eval_cv[k]),4)))\n",
    "    print(k+'_std'+ '\\t' + str(np.round(np.std(eval_cv[k]),4)))"
   ]
  },
  {
   "cell_type": "markdown",
   "id": "8d74c596",
   "metadata": {},
   "source": [
    "Now, we can loop through all FV-types and event-types, and collect the evaluation results. Let's beatify the output of the evaluation of single FV-Event pair."
   ]
  },
  {
   "cell_type": "code",
   "execution_count": 24,
   "id": "fe040d4e",
   "metadata": {},
   "outputs": [
    {
     "name": "stdout",
     "output_type": "stream",
     "text": [
      "Dropping rows containing NaNs: 13\n",
      "{'id': 'PCA-HRD', 'true_positive': 156, 'false_positive': 234, 'false_negative': 260, 'true_negative': 798, 'sensitivity': 0.38, 'specificity': 0.77, 'prevalence': 0.28729282, 'ppv': 0.4, 'npv': 0.7543, 'fpr': 0.2267, 'threat_score': 0.24, 'accuracy': 0.6588, 'balanced_accuracy': 0.5741, 'F1': 0.3871, 'MCC': 0.1512, 'informedness': 0.15, 'markedness': 0.1543, 'fit_time_mean': 1.0502, 'fit_time_std': 0.1501, 'score_time_mean': 0.0239, 'score_time_std': 0.0014, 'test_accuracy_mean': 0.6589, 'test_accuracy_std': 0.032, 'train_accuracy_mean': 0.9936, 'train_accuracy_std': 0.0017, 'test_recall_mean': 0.3745, 'test_recall_std': 0.0967, 'train_recall_mean': 0.9816, 'train_recall_std': 0.0045, 'test_precision_mean': 0.3952, 'test_precision_std': 0.0705, 'train_precision_mean': 0.9959, 'train_precision_std': 0.0018, 'test_roc_auc_mean': 0.6336, 'test_roc_auc_std': 0.0496, 'train_roc_auc_mean': 0.9996, 'train_roc_auc_std': 0.0002, 'test_f1_mean': 0.3832, 'test_f1_std': 0.0822, 'train_f1_mean': 0.9887, 'train_f1_std': 0.003}\n"
     ]
    }
   ],
   "source": [
    "# Evaluate one FV-Event pair\n",
    "def evaluate_fv_event_pair(fv, event, fv_id=None, kfold=5, randseed=123):\n",
    "    from sklearn.model_selection import StratifiedKFold\n",
    "    from sklearn.linear_model import LogisticRegression\n",
    "    from sklearn.model_selection import cross_val_predict, cross_validate\n",
    "    # Create CV folds\n",
    "    x, y, dates = clean_nans(x=fv, y=event)\n",
    "    skf = StratifiedKFold(n_splits=kfold, shuffle=True, random_state=randseed)\n",
    "    clf = LogisticRegression(random_state=0, max_iter=10000)\n",
    "    # Get predictions from CV\n",
    "    y_pred = cross_val_predict(clf, x, y, cv=skf)\n",
    "    eval_all = evaluate_binary(y, y_pred, id=fv_id)\n",
    "    #print(eval_all)\n",
    "    # Get evaluations for each CV fold\n",
    "    eval_cv = cross_validate(clf, x, y, cv=skf, return_train_score=True,\n",
    "                             scoring=['accuracy', 'recall', 'precision', 'roc_auc', 'f1'])\n",
    "    for k in eval_cv.keys():\n",
    "        eval_all[k+'_mean'] = np.round(np.mean(eval_cv[k]),4)\n",
    "        eval_all[k+'_std'] = np.round(np.std(eval_cv[k]),4)\n",
    "    #print(eval_cv)\n",
    "    return(eval_all, eval_cv)\n",
    "\n",
    "\n",
    "# test\n",
    "eval_all, eval_cv = evaluate_fv_event_pair(fv, events['HRD'], fv_id='PCA-HRD', kfold=10)\n",
    "print(eval_all)"
   ]
  },
  {
   "cell_type": "code",
   "execution_count": 25,
   "id": "1bccb3df",
   "metadata": {},
   "outputs": [
    {
     "name": "stdout",
     "output_type": "stream",
     "text": [
      "(1461, 8)\n",
      "CS\t counts: 12\t prob:0.008213552361396304\n",
      "TYW\t counts: 65.0\t prob:0.044490075290896644\n",
      "NWPTY\t counts: 702\t prob:0.4804928131416838\n",
      "FT\t counts: 244\t prob:0.16700889801505817\n",
      "NE\t counts: 471\t prob:0.32238193018480493\n",
      "SWF\t counts: 406\t prob:0.2778918548939083\n",
      "HRD\t counts: 420\t prob:0.2874743326488706\n",
      "HRH\t counts: 520\t prob:0.35592060232717315\n",
      "PCA-CS\n",
      "Dropping rows containing NaNs: 13\n"
     ]
    },
    {
     "name": "stderr",
     "output_type": "stream",
     "text": [
      "C:\\Users\\tsyo\\AppData\\Local\\Continuum\\anaconda3\\lib\\site-packages\\sklearn\\metrics\\_classification.py:1248: UndefinedMetricWarning: Precision is ill-defined and being set to 0.0 due to no predicted samples. Use `zero_division` parameter to control this behavior.\n",
      "  _warn_prf(average, modifier, msg_start, len(result))\n",
      "C:\\Users\\tsyo\\AppData\\Local\\Continuum\\anaconda3\\lib\\site-packages\\sklearn\\metrics\\_classification.py:1248: UndefinedMetricWarning: Precision is ill-defined and being set to 0.0 due to no predicted samples. Use `zero_division` parameter to control this behavior.\n",
      "  _warn_prf(average, modifier, msg_start, len(result))\n",
      "C:\\Users\\tsyo\\AppData\\Local\\Continuum\\anaconda3\\lib\\site-packages\\sklearn\\metrics\\_classification.py:1248: UndefinedMetricWarning: Precision is ill-defined and being set to 0.0 due to no predicted samples. Use `zero_division` parameter to control this behavior.\n",
      "  _warn_prf(average, modifier, msg_start, len(result))\n",
      "C:\\Users\\tsyo\\AppData\\Local\\Continuum\\anaconda3\\lib\\site-packages\\sklearn\\metrics\\_classification.py:1248: UndefinedMetricWarning: Precision is ill-defined and being set to 0.0 due to no predicted samples. Use `zero_division` parameter to control this behavior.\n",
      "  _warn_prf(average, modifier, msg_start, len(result))\n",
      "C:\\Users\\tsyo\\AppData\\Local\\Continuum\\anaconda3\\lib\\site-packages\\sklearn\\metrics\\_classification.py:1248: UndefinedMetricWarning: Precision is ill-defined and being set to 0.0 due to no predicted samples. Use `zero_division` parameter to control this behavior.\n",
      "  _warn_prf(average, modifier, msg_start, len(result))\n",
      "C:\\Users\\tsyo\\AppData\\Local\\Continuum\\anaconda3\\lib\\site-packages\\sklearn\\metrics\\_classification.py:1248: UndefinedMetricWarning: Precision is ill-defined and being set to 0.0 due to no predicted samples. Use `zero_division` parameter to control this behavior.\n",
      "  _warn_prf(average, modifier, msg_start, len(result))\n",
      "C:\\Users\\tsyo\\AppData\\Local\\Continuum\\anaconda3\\lib\\site-packages\\sklearn\\metrics\\_classification.py:1248: UndefinedMetricWarning: Precision is ill-defined and being set to 0.0 due to no predicted samples. Use `zero_division` parameter to control this behavior.\n",
      "  _warn_prf(average, modifier, msg_start, len(result))\n",
      "C:\\Users\\tsyo\\AppData\\Local\\Continuum\\anaconda3\\lib\\site-packages\\sklearn\\metrics\\_classification.py:1248: UndefinedMetricWarning: Precision is ill-defined and being set to 0.0 due to no predicted samples. Use `zero_division` parameter to control this behavior.\n",
      "  _warn_prf(average, modifier, msg_start, len(result))\n",
      "C:\\Users\\tsyo\\AppData\\Local\\Continuum\\anaconda3\\lib\\site-packages\\sklearn\\metrics\\_classification.py:1248: UndefinedMetricWarning: Precision is ill-defined and being set to 0.0 due to no predicted samples. Use `zero_division` parameter to control this behavior.\n",
      "  _warn_prf(average, modifier, msg_start, len(result))\n"
     ]
    },
    {
     "name": "stdout",
     "output_type": "stream",
     "text": [
      "PCA-TYW\n",
      "Dropping rows containing NaNs: 13\n",
      "PCA-NWPTY\n",
      "Dropping rows containing NaNs: 13\n",
      "PCA-FT\n",
      "Dropping rows containing NaNs: 13\n",
      "PCA-NE\n",
      "Dropping rows containing NaNs: 13\n",
      "PCA-SWF\n",
      "Dropping rows containing NaNs: 13\n",
      "PCA-HRD\n",
      "Dropping rows containing NaNs: 13\n",
      "PCA-HRH\n",
      "Dropping rows containing NaNs: 13\n",
      "CAE-CS\n",
      "Dropping rows containing NaNs: 13\n"
     ]
    },
    {
     "name": "stderr",
     "output_type": "stream",
     "text": [
      "C:\\Users\\tsyo\\AppData\\Local\\Continuum\\anaconda3\\lib\\site-packages\\sklearn\\metrics\\_classification.py:1248: UndefinedMetricWarning: Precision is ill-defined and being set to 0.0 due to no predicted samples. Use `zero_division` parameter to control this behavior.\n",
      "  _warn_prf(average, modifier, msg_start, len(result))\n",
      "C:\\Users\\tsyo\\AppData\\Local\\Continuum\\anaconda3\\lib\\site-packages\\sklearn\\metrics\\_classification.py:1248: UndefinedMetricWarning: Precision is ill-defined and being set to 0.0 due to no predicted samples. Use `zero_division` parameter to control this behavior.\n",
      "  _warn_prf(average, modifier, msg_start, len(result))\n",
      "C:\\Users\\tsyo\\AppData\\Local\\Continuum\\anaconda3\\lib\\site-packages\\sklearn\\metrics\\_classification.py:1248: UndefinedMetricWarning: Precision is ill-defined and being set to 0.0 due to no predicted samples. Use `zero_division` parameter to control this behavior.\n",
      "  _warn_prf(average, modifier, msg_start, len(result))\n",
      "C:\\Users\\tsyo\\AppData\\Local\\Continuum\\anaconda3\\lib\\site-packages\\sklearn\\metrics\\_classification.py:1248: UndefinedMetricWarning: Precision is ill-defined and being set to 0.0 due to no predicted samples. Use `zero_division` parameter to control this behavior.\n",
      "  _warn_prf(average, modifier, msg_start, len(result))\n",
      "C:\\Users\\tsyo\\AppData\\Local\\Continuum\\anaconda3\\lib\\site-packages\\sklearn\\metrics\\_classification.py:1248: UndefinedMetricWarning: Precision is ill-defined and being set to 0.0 due to no predicted samples. Use `zero_division` parameter to control this behavior.\n",
      "  _warn_prf(average, modifier, msg_start, len(result))\n",
      "C:\\Users\\tsyo\\AppData\\Local\\Continuum\\anaconda3\\lib\\site-packages\\sklearn\\metrics\\_classification.py:1248: UndefinedMetricWarning: Precision is ill-defined and being set to 0.0 due to no predicted samples. Use `zero_division` parameter to control this behavior.\n",
      "  _warn_prf(average, modifier, msg_start, len(result))\n",
      "C:\\Users\\tsyo\\AppData\\Local\\Continuum\\anaconda3\\lib\\site-packages\\sklearn\\metrics\\_classification.py:1248: UndefinedMetricWarning: Precision is ill-defined and being set to 0.0 due to no predicted samples. Use `zero_division` parameter to control this behavior.\n",
      "  _warn_prf(average, modifier, msg_start, len(result))\n"
     ]
    },
    {
     "name": "stdout",
     "output_type": "stream",
     "text": [
      "CAE-TYW\n",
      "Dropping rows containing NaNs: 13\n",
      "CAE-NWPTY\n",
      "Dropping rows containing NaNs: 13\n",
      "CAE-FT\n",
      "Dropping rows containing NaNs: 13\n",
      "CAE-NE\n",
      "Dropping rows containing NaNs: 13\n",
      "CAE-SWF\n",
      "Dropping rows containing NaNs: 13\n",
      "CAE-HRD\n",
      "Dropping rows containing NaNs: 13\n",
      "CAE-HRH\n",
      "Dropping rows containing NaNs: 13\n",
      "CVAE-CS\n",
      "Dropping rows containing NaNs: 13\n"
     ]
    },
    {
     "name": "stderr",
     "output_type": "stream",
     "text": [
      "C:\\Users\\tsyo\\AppData\\Local\\Continuum\\anaconda3\\lib\\site-packages\\ipykernel_launcher.py:42: RuntimeWarning: invalid value encountered in longlong_scalars\n",
      "C:\\Users\\tsyo\\AppData\\Local\\Continuum\\anaconda3\\lib\\site-packages\\ipykernel_launcher.py:49: RuntimeWarning: invalid value encountered in true_divide\n",
      "C:\\Users\\tsyo\\AppData\\Local\\Continuum\\anaconda3\\lib\\site-packages\\sklearn\\metrics\\_classification.py:1248: UndefinedMetricWarning: Precision is ill-defined and being set to 0.0 due to no predicted samples. Use `zero_division` parameter to control this behavior.\n",
      "  _warn_prf(average, modifier, msg_start, len(result))\n",
      "C:\\Users\\tsyo\\AppData\\Local\\Continuum\\anaconda3\\lib\\site-packages\\sklearn\\metrics\\_classification.py:1248: UndefinedMetricWarning: Precision is ill-defined and being set to 0.0 due to no predicted samples. Use `zero_division` parameter to control this behavior.\n",
      "  _warn_prf(average, modifier, msg_start, len(result))\n",
      "C:\\Users\\tsyo\\AppData\\Local\\Continuum\\anaconda3\\lib\\site-packages\\sklearn\\metrics\\_classification.py:1248: UndefinedMetricWarning: Precision is ill-defined and being set to 0.0 due to no predicted samples. Use `zero_division` parameter to control this behavior.\n",
      "  _warn_prf(average, modifier, msg_start, len(result))\n",
      "C:\\Users\\tsyo\\AppData\\Local\\Continuum\\anaconda3\\lib\\site-packages\\sklearn\\metrics\\_classification.py:1248: UndefinedMetricWarning: Precision is ill-defined and being set to 0.0 due to no predicted samples. Use `zero_division` parameter to control this behavior.\n",
      "  _warn_prf(average, modifier, msg_start, len(result))\n",
      "C:\\Users\\tsyo\\AppData\\Local\\Continuum\\anaconda3\\lib\\site-packages\\sklearn\\metrics\\_classification.py:1248: UndefinedMetricWarning: Precision is ill-defined and being set to 0.0 due to no predicted samples. Use `zero_division` parameter to control this behavior.\n",
      "  _warn_prf(average, modifier, msg_start, len(result))\n",
      "C:\\Users\\tsyo\\AppData\\Local\\Continuum\\anaconda3\\lib\\site-packages\\sklearn\\metrics\\_classification.py:1248: UndefinedMetricWarning: Precision is ill-defined and being set to 0.0 due to no predicted samples. Use `zero_division` parameter to control this behavior.\n",
      "  _warn_prf(average, modifier, msg_start, len(result))\n",
      "C:\\Users\\tsyo\\AppData\\Local\\Continuum\\anaconda3\\lib\\site-packages\\sklearn\\metrics\\_classification.py:1248: UndefinedMetricWarning: Precision is ill-defined and being set to 0.0 due to no predicted samples. Use `zero_division` parameter to control this behavior.\n",
      "  _warn_prf(average, modifier, msg_start, len(result))\n",
      "C:\\Users\\tsyo\\AppData\\Local\\Continuum\\anaconda3\\lib\\site-packages\\sklearn\\metrics\\_classification.py:1248: UndefinedMetricWarning: Precision is ill-defined and being set to 0.0 due to no predicted samples. Use `zero_division` parameter to control this behavior.\n",
      "  _warn_prf(average, modifier, msg_start, len(result))\n",
      "C:\\Users\\tsyo\\AppData\\Local\\Continuum\\anaconda3\\lib\\site-packages\\sklearn\\metrics\\_classification.py:1248: UndefinedMetricWarning: Precision is ill-defined and being set to 0.0 due to no predicted samples. Use `zero_division` parameter to control this behavior.\n",
      "  _warn_prf(average, modifier, msg_start, len(result))\n",
      "C:\\Users\\tsyo\\AppData\\Local\\Continuum\\anaconda3\\lib\\site-packages\\sklearn\\metrics\\_classification.py:1248: UndefinedMetricWarning: Precision is ill-defined and being set to 0.0 due to no predicted samples. Use `zero_division` parameter to control this behavior.\n",
      "  _warn_prf(average, modifier, msg_start, len(result))\n"
     ]
    },
    {
     "name": "stdout",
     "output_type": "stream",
     "text": [
      "CVAE-TYW\n",
      "Dropping rows containing NaNs: 13\n"
     ]
    },
    {
     "name": "stderr",
     "output_type": "stream",
     "text": [
      "C:\\Users\\tsyo\\AppData\\Local\\Continuum\\anaconda3\\lib\\site-packages\\ipykernel_launcher.py:42: RuntimeWarning: invalid value encountered in longlong_scalars\n",
      "C:\\Users\\tsyo\\AppData\\Local\\Continuum\\anaconda3\\lib\\site-packages\\ipykernel_launcher.py:49: RuntimeWarning: invalid value encountered in true_divide\n",
      "C:\\Users\\tsyo\\AppData\\Local\\Continuum\\anaconda3\\lib\\site-packages\\sklearn\\metrics\\_classification.py:1248: UndefinedMetricWarning: Precision is ill-defined and being set to 0.0 due to no predicted samples. Use `zero_division` parameter to control this behavior.\n",
      "  _warn_prf(average, modifier, msg_start, len(result))\n",
      "C:\\Users\\tsyo\\AppData\\Local\\Continuum\\anaconda3\\lib\\site-packages\\sklearn\\metrics\\_classification.py:1248: UndefinedMetricWarning: Precision is ill-defined and being set to 0.0 due to no predicted samples. Use `zero_division` parameter to control this behavior.\n",
      "  _warn_prf(average, modifier, msg_start, len(result))\n",
      "C:\\Users\\tsyo\\AppData\\Local\\Continuum\\anaconda3\\lib\\site-packages\\sklearn\\metrics\\_classification.py:1248: UndefinedMetricWarning: Precision is ill-defined and being set to 0.0 due to no predicted samples. Use `zero_division` parameter to control this behavior.\n",
      "  _warn_prf(average, modifier, msg_start, len(result))\n",
      "C:\\Users\\tsyo\\AppData\\Local\\Continuum\\anaconda3\\lib\\site-packages\\sklearn\\metrics\\_classification.py:1248: UndefinedMetricWarning: Precision is ill-defined and being set to 0.0 due to no predicted samples. Use `zero_division` parameter to control this behavior.\n",
      "  _warn_prf(average, modifier, msg_start, len(result))\n",
      "C:\\Users\\tsyo\\AppData\\Local\\Continuum\\anaconda3\\lib\\site-packages\\sklearn\\metrics\\_classification.py:1248: UndefinedMetricWarning: Precision is ill-defined and being set to 0.0 due to no predicted samples. Use `zero_division` parameter to control this behavior.\n",
      "  _warn_prf(average, modifier, msg_start, len(result))\n",
      "C:\\Users\\tsyo\\AppData\\Local\\Continuum\\anaconda3\\lib\\site-packages\\sklearn\\metrics\\_classification.py:1248: UndefinedMetricWarning: Precision is ill-defined and being set to 0.0 due to no predicted samples. Use `zero_division` parameter to control this behavior.\n",
      "  _warn_prf(average, modifier, msg_start, len(result))\n",
      "C:\\Users\\tsyo\\AppData\\Local\\Continuum\\anaconda3\\lib\\site-packages\\sklearn\\metrics\\_classification.py:1248: UndefinedMetricWarning: Precision is ill-defined and being set to 0.0 due to no predicted samples. Use `zero_division` parameter to control this behavior.\n",
      "  _warn_prf(average, modifier, msg_start, len(result))\n",
      "C:\\Users\\tsyo\\AppData\\Local\\Continuum\\anaconda3\\lib\\site-packages\\sklearn\\metrics\\_classification.py:1248: UndefinedMetricWarning: Precision is ill-defined and being set to 0.0 due to no predicted samples. Use `zero_division` parameter to control this behavior.\n",
      "  _warn_prf(average, modifier, msg_start, len(result))\n",
      "C:\\Users\\tsyo\\AppData\\Local\\Continuum\\anaconda3\\lib\\site-packages\\sklearn\\metrics\\_classification.py:1248: UndefinedMetricWarning: Precision is ill-defined and being set to 0.0 due to no predicted samples. Use `zero_division` parameter to control this behavior.\n",
      "  _warn_prf(average, modifier, msg_start, len(result))\n",
      "C:\\Users\\tsyo\\AppData\\Local\\Continuum\\anaconda3\\lib\\site-packages\\sklearn\\metrics\\_classification.py:1248: UndefinedMetricWarning: Precision is ill-defined and being set to 0.0 due to no predicted samples. Use `zero_division` parameter to control this behavior.\n",
      "  _warn_prf(average, modifier, msg_start, len(result))\n"
     ]
    },
    {
     "name": "stdout",
     "output_type": "stream",
     "text": [
      "CVAE-NWPTY\n",
      "Dropping rows containing NaNs: 13\n",
      "CVAE-FT\n",
      "Dropping rows containing NaNs: 13\n",
      "CVAE-NE\n",
      "Dropping rows containing NaNs: 13\n",
      "CVAE-SWF\n",
      "Dropping rows containing NaNs: 13\n",
      "CVAE-HRD\n",
      "Dropping rows containing NaNs: 13\n",
      "CVAE-HRH\n",
      "Dropping rows containing NaNs: 13\n",
      "Pretrained-BigEarth-CS\n",
      "Dropping rows containing NaNs: 13\n"
     ]
    },
    {
     "name": "stderr",
     "output_type": "stream",
     "text": [
      "C:\\Users\\tsyo\\AppData\\Local\\Continuum\\anaconda3\\lib\\site-packages\\ipykernel_launcher.py:42: RuntimeWarning: invalid value encountered in longlong_scalars\n",
      "C:\\Users\\tsyo\\AppData\\Local\\Continuum\\anaconda3\\lib\\site-packages\\ipykernel_launcher.py:49: RuntimeWarning: invalid value encountered in true_divide\n",
      "C:\\Users\\tsyo\\AppData\\Local\\Continuum\\anaconda3\\lib\\site-packages\\sklearn\\metrics\\_classification.py:1248: UndefinedMetricWarning: Precision is ill-defined and being set to 0.0 due to no predicted samples. Use `zero_division` parameter to control this behavior.\n",
      "  _warn_prf(average, modifier, msg_start, len(result))\n",
      "C:\\Users\\tsyo\\AppData\\Local\\Continuum\\anaconda3\\lib\\site-packages\\sklearn\\metrics\\_classification.py:1248: UndefinedMetricWarning: Precision is ill-defined and being set to 0.0 due to no predicted samples. Use `zero_division` parameter to control this behavior.\n",
      "  _warn_prf(average, modifier, msg_start, len(result))\n",
      "C:\\Users\\tsyo\\AppData\\Local\\Continuum\\anaconda3\\lib\\site-packages\\sklearn\\metrics\\_classification.py:1248: UndefinedMetricWarning: Precision is ill-defined and being set to 0.0 due to no predicted samples. Use `zero_division` parameter to control this behavior.\n",
      "  _warn_prf(average, modifier, msg_start, len(result))\n",
      "C:\\Users\\tsyo\\AppData\\Local\\Continuum\\anaconda3\\lib\\site-packages\\sklearn\\metrics\\_classification.py:1248: UndefinedMetricWarning: Precision is ill-defined and being set to 0.0 due to no predicted samples. Use `zero_division` parameter to control this behavior.\n",
      "  _warn_prf(average, modifier, msg_start, len(result))\n",
      "C:\\Users\\tsyo\\AppData\\Local\\Continuum\\anaconda3\\lib\\site-packages\\sklearn\\metrics\\_classification.py:1248: UndefinedMetricWarning: Precision is ill-defined and being set to 0.0 due to no predicted samples. Use `zero_division` parameter to control this behavior.\n",
      "  _warn_prf(average, modifier, msg_start, len(result))\n",
      "C:\\Users\\tsyo\\AppData\\Local\\Continuum\\anaconda3\\lib\\site-packages\\sklearn\\metrics\\_classification.py:1248: UndefinedMetricWarning: Precision is ill-defined and being set to 0.0 due to no predicted samples. Use `zero_division` parameter to control this behavior.\n",
      "  _warn_prf(average, modifier, msg_start, len(result))\n",
      "C:\\Users\\tsyo\\AppData\\Local\\Continuum\\anaconda3\\lib\\site-packages\\sklearn\\metrics\\_classification.py:1248: UndefinedMetricWarning: Precision is ill-defined and being set to 0.0 due to no predicted samples. Use `zero_division` parameter to control this behavior.\n",
      "  _warn_prf(average, modifier, msg_start, len(result))\n",
      "C:\\Users\\tsyo\\AppData\\Local\\Continuum\\anaconda3\\lib\\site-packages\\sklearn\\metrics\\_classification.py:1248: UndefinedMetricWarning: Precision is ill-defined and being set to 0.0 due to no predicted samples. Use `zero_division` parameter to control this behavior.\n",
      "  _warn_prf(average, modifier, msg_start, len(result))\n",
      "C:\\Users\\tsyo\\AppData\\Local\\Continuum\\anaconda3\\lib\\site-packages\\sklearn\\metrics\\_classification.py:1248: UndefinedMetricWarning: Precision is ill-defined and being set to 0.0 due to no predicted samples. Use `zero_division` parameter to control this behavior.\n",
      "  _warn_prf(average, modifier, msg_start, len(result))\n",
      "C:\\Users\\tsyo\\AppData\\Local\\Continuum\\anaconda3\\lib\\site-packages\\sklearn\\metrics\\_classification.py:1248: UndefinedMetricWarning: Precision is ill-defined and being set to 0.0 due to no predicted samples. Use `zero_division` parameter to control this behavior.\n",
      "  _warn_prf(average, modifier, msg_start, len(result))\n"
     ]
    },
    {
     "name": "stdout",
     "output_type": "stream",
     "text": [
      "Pretrained-BigEarth-TYW\n",
      "Dropping rows containing NaNs: 13\n"
     ]
    },
    {
     "name": "stderr",
     "output_type": "stream",
     "text": [
      "C:\\Users\\tsyo\\AppData\\Local\\Continuum\\anaconda3\\lib\\site-packages\\sklearn\\metrics\\_classification.py:1248: UndefinedMetricWarning: Precision is ill-defined and being set to 0.0 due to no predicted samples. Use `zero_division` parameter to control this behavior.\n",
      "  _warn_prf(average, modifier, msg_start, len(result))\n",
      "C:\\Users\\tsyo\\AppData\\Local\\Continuum\\anaconda3\\lib\\site-packages\\sklearn\\metrics\\_classification.py:1248: UndefinedMetricWarning: Precision is ill-defined and being set to 0.0 due to no predicted samples. Use `zero_division` parameter to control this behavior.\n",
      "  _warn_prf(average, modifier, msg_start, len(result))\n",
      "C:\\Users\\tsyo\\AppData\\Local\\Continuum\\anaconda3\\lib\\site-packages\\sklearn\\metrics\\_classification.py:1248: UndefinedMetricWarning: Precision is ill-defined and being set to 0.0 due to no predicted samples. Use `zero_division` parameter to control this behavior.\n",
      "  _warn_prf(average, modifier, msg_start, len(result))\n"
     ]
    },
    {
     "name": "stdout",
     "output_type": "stream",
     "text": [
      "Pretrained-BigEarth-NWPTY\n",
      "Dropping rows containing NaNs: 13\n",
      "Pretrained-BigEarth-FT\n",
      "Dropping rows containing NaNs: 13\n",
      "Pretrained-BigEarth-NE\n",
      "Dropping rows containing NaNs: 13\n",
      "Pretrained-BigEarth-SWF\n",
      "Dropping rows containing NaNs: 13\n",
      "Pretrained-BigEarth-HRD\n",
      "Dropping rows containing NaNs: 13\n",
      "Pretrained-BigEarth-HRH\n",
      "Dropping rows containing NaNs: 13\n",
      "Pretrained-ImageNet-CS\n",
      "Dropping rows containing NaNs: 13\n"
     ]
    },
    {
     "name": "stderr",
     "output_type": "stream",
     "text": [
      "C:\\Users\\tsyo\\AppData\\Local\\Continuum\\anaconda3\\lib\\site-packages\\sklearn\\metrics\\_classification.py:1248: UndefinedMetricWarning: Precision is ill-defined and being set to 0.0 due to no predicted samples. Use `zero_division` parameter to control this behavior.\n",
      "  _warn_prf(average, modifier, msg_start, len(result))\n",
      "C:\\Users\\tsyo\\AppData\\Local\\Continuum\\anaconda3\\lib\\site-packages\\sklearn\\metrics\\_classification.py:1248: UndefinedMetricWarning: Precision is ill-defined and being set to 0.0 due to no predicted samples. Use `zero_division` parameter to control this behavior.\n",
      "  _warn_prf(average, modifier, msg_start, len(result))\n",
      "C:\\Users\\tsyo\\AppData\\Local\\Continuum\\anaconda3\\lib\\site-packages\\sklearn\\metrics\\_classification.py:1248: UndefinedMetricWarning: Precision is ill-defined and being set to 0.0 due to no predicted samples. Use `zero_division` parameter to control this behavior.\n",
      "  _warn_prf(average, modifier, msg_start, len(result))\n",
      "C:\\Users\\tsyo\\AppData\\Local\\Continuum\\anaconda3\\lib\\site-packages\\sklearn\\metrics\\_classification.py:1248: UndefinedMetricWarning: Precision is ill-defined and being set to 0.0 due to no predicted samples. Use `zero_division` parameter to control this behavior.\n",
      "  _warn_prf(average, modifier, msg_start, len(result))\n",
      "C:\\Users\\tsyo\\AppData\\Local\\Continuum\\anaconda3\\lib\\site-packages\\sklearn\\metrics\\_classification.py:1248: UndefinedMetricWarning: Precision is ill-defined and being set to 0.0 due to no predicted samples. Use `zero_division` parameter to control this behavior.\n",
      "  _warn_prf(average, modifier, msg_start, len(result))\n",
      "C:\\Users\\tsyo\\AppData\\Local\\Continuum\\anaconda3\\lib\\site-packages\\sklearn\\metrics\\_classification.py:1248: UndefinedMetricWarning: Precision is ill-defined and being set to 0.0 due to no predicted samples. Use `zero_division` parameter to control this behavior.\n",
      "  _warn_prf(average, modifier, msg_start, len(result))\n",
      "C:\\Users\\tsyo\\AppData\\Local\\Continuum\\anaconda3\\lib\\site-packages\\sklearn\\metrics\\_classification.py:1248: UndefinedMetricWarning: Precision is ill-defined and being set to 0.0 due to no predicted samples. Use `zero_division` parameter to control this behavior.\n",
      "  _warn_prf(average, modifier, msg_start, len(result))\n"
     ]
    },
    {
     "name": "stdout",
     "output_type": "stream",
     "text": [
      "Pretrained-ImageNet-TYW\n",
      "Dropping rows containing NaNs: 13\n",
      "Pretrained-ImageNet-NWPTY\n",
      "Dropping rows containing NaNs: 13\n",
      "Pretrained-ImageNet-FT\n",
      "Dropping rows containing NaNs: 13\n",
      "Pretrained-ImageNet-NE\n",
      "Dropping rows containing NaNs: 13\n",
      "Pretrained-ImageNet-SWF\n",
      "Dropping rows containing NaNs: 13\n",
      "Pretrained-ImageNet-HRD\n",
      "Dropping rows containing NaNs: 13\n",
      "Pretrained-ImageNet-HRH\n",
      "Dropping rows containing NaNs: 13\n"
     ]
    }
   ],
   "source": [
    "# Parameters\n",
    "FV_NAMES = ['PCA', 'CAE', 'CVAE', 'Pretrained-BigEarth', 'Pretrained-ImageNet']\n",
    "FV_FILES = ['fv_pca.zip', 'fv_cae.zip', 'fv_cvae.zip', 'fv_ptbe.zip', 'fv_ptin.zip']\n",
    "EVENT_NAMES = ['CS', 'TYW', 'NWPTY', 'FT', 'NE', 'SWF', 'HRD', 'HRH']\n",
    "EVENT_FILE = 'tad_filtered.csv'\n",
    "CV_FOLD = 10\n",
    "DATAPATH = '../data/'\n",
    "\n",
    "events = read_events(DATAPATH+EVENT_FILE, verbose=1)\n",
    "results = []\n",
    "cv_details = {}\n",
    "\n",
    "# Loop\n",
    "for i in range(len(FV_NAMES)):\n",
    "    for j in range(len(EVENT_NAMES)):\n",
    "        fv = pd.read_csv(DATAPATH+FV_FILES[i], compression='zip', index_col=0)\n",
    "        fv_name = FV_NAMES[i]\n",
    "        event_name = EVENT_NAMES[j]\n",
    "        exp_id = fv_name+'-'+event_name\n",
    "        print(exp_id)\n",
    "        eval_all, eval_cv = evaluate_fv_event_pair(fv, events[event_name], fv_id=exp_id, kfold=10)\n",
    "        results.append(eval_all)\n",
    "        cv_details[exp_id] = eval_cv\n",
    "\n"
   ]
  },
  {
   "cell_type": "code",
   "execution_count": 27,
   "id": "b234eb00",
   "metadata": {},
   "outputs": [],
   "source": [
    "pd.DataFrame(results).to_csv('../data/exp_results.csv', index=False)"
   ]
  },
  {
   "cell_type": "code",
   "execution_count": null,
   "id": "3a53da9d",
   "metadata": {},
   "outputs": [],
   "source": []
  }
 ],
 "metadata": {
  "kernelspec": {
   "display_name": "Python 3",
   "language": "python",
   "name": "python3"
  },
  "language_info": {
   "codemirror_mode": {
    "name": "ipython",
    "version": 3
   },
   "file_extension": ".py",
   "mimetype": "text/x-python",
   "name": "python",
   "nbconvert_exporter": "python",
   "pygments_lexer": "ipython3",
   "version": "3.7.10"
  }
 },
 "nbformat": 4,
 "nbformat_minor": 5
}

{
 "cells": [
  {
   "cell_type": "markdown",
   "id": "2e89a412",
   "metadata": {},
   "source": [
    "# Data-flow for Experiments\n",
    "\n",
    "After testing with the previous notebooks, we are about to wrap up with a concrete plan of experiments.\n",
    "\n",
    "## Input Data: NOAA GridSat in East Asia\n",
    "\n",
    "### Raw Data\n",
    "The details of the data is described in the [official document](https://developers.google.com/earth-engine/datasets/catalog/NOAA_CDR_GRIDSAT-B1_V2).\n",
    "\n",
    "The downloaded NOAA-GridSta-B1 image are stored in netCDF4 format (.nc file). The main variable, brightness temperature data, was stored in int16 as 'irwin_cdr', with a scale factor of 0.01 and offset of 200. The missing values is flagged as -31999.\n",
    "\n",
    "### Preprocessing\n",
    "1. Read raw data: -70' to 69.93'N, -180' to 179.94'E, with 0.07' intervals. shape=(2000, 5143)\n",
    "2. Crop to East Asia region (100-160E, 0-60N) -> shape=(858,858) \n",
    "3. Resize the cropped data into a domain of (2^N, 2^N) for better processing. (using opencv2)\n",
    "    - cv2.resize(512,512) -> (512,512)\n",
    "    - cv2.resize(256,256) -> (256,256)\n",
    "4. Rescale the values of white temperature to (0,1). (divided by the max value)\n",
    "\n",
    "\n",
    "## Output Data: Weather Events in Taiwan Area\n",
    "\n",
    "- **HRD**: Precip >= 40mm/day\n",
    "- **HRH**: Precip >= 10mm/hr\n",
    "- **CS**: 寒潮，台北測站24小時內有任一小時10度C以下\n",
    "- **TYW**: 中央氣象局發布颱風警報\n",
    "- **NWPTC**: 西北太平洋地區有熱帶氣旋\n",
    "- **FT**: 中央氣象局地面天氣圖，2000年以後以00Z代表\n",
    "- **NE**: 彭佳嶼測站日平均風向為東北風(15-75度)及風速達4m/s\n",
    "- **SWF**: CFSR 850hPa 紅色區域內 u平均>0並且v平均>0並且平均風達3m/s 或者 >6m/s的風速範圍站紅色區域30%"
   ]
  },
  {
   "cell_type": "code",
   "execution_count": 1,
   "id": "a4c552b0",
   "metadata": {},
   "outputs": [
    {
     "name": "stdout",
     "output_type": "stream",
     "text": [
      "          CS  TYW  NWPTY  FT  NE  SWF  HRD  HRH\n",
      "20130101   0  0.0      1   0   0    0    1    0\n",
      "20130102   0  0.0      1   0   1    0    0    0\n",
      "20130103   0  0.0      1   0   1    0    1    1\n",
      "20130104   0  0.0      1   0   1    0    1    0\n",
      "20130105   0  0.0      1   0   1    0    1    1\n",
      "(1461, 8)\n",
      "CS\t counts: 12\t prob:0.008213552361396304\n",
      "TYW\t counts: 65.0\t prob:0.044490075290896644\n",
      "NWPTY\t counts: 702\t prob:0.4804928131416838\n",
      "FT\t counts: 244\t prob:0.16700889801505817\n",
      "NE\t counts: 471\t prob:0.32238193018480493\n",
      "SWF\t counts: 406\t prob:0.2778918548939083\n",
      "HRD\t counts: 420\t prob:0.2874743326488706\n",
      "HRH\t counts: 520\t prob:0.35592060232717315\n"
     ]
    }
   ],
   "source": [
    "import numpy as np\n",
    "import pandas as pd\n",
    "import os, re\n",
    "\n",
    "# Read all events\n",
    "events = pd.read_csv('../data/tad_filtered.csv', index_col=0)\n",
    "\n",
    "print(events.head())\n",
    "print(events.shape)\n",
    "for c in events.columns:\n",
    "    print(c + '\\t counts: ' + str(events[c].sum()) + '\\t prob:' + str(events[c].sum()/events.shape[0])) "
   ]
  },
  {
   "cell_type": "markdown",
   "id": "f51c664c",
   "metadata": {},
   "source": [
    "## Methods\n",
    "\n",
    "Feature extraction (dimension reduction) with generalized linear model (logistic regression).\n",
    "\n",
    "### Principle Component Analysis\n",
    "> python utils/ipca_transform_preproc_gridsatb1.py -i \\[PATH_TO_DATA\\] -o \\[PREFIX_FOR_OUTPUT\\] -m \\[PATH_TO_MODEL\\] \n"
   ]
  },
  {
   "cell_type": "code",
   "execution_count": 2,
   "id": "ee9ddc61",
   "metadata": {},
   "outputs": [
    {
     "name": "stdout",
     "output_type": "stream",
     "text": [
      "                  0          1         2         3         4         5  \\\n",
      "20130101  10.258309  -4.656837 -3.172782  0.632345  2.013453  3.179133   \n",
      "20130102   8.503345  -6.036067 -2.736589 -3.880598  2.831698  2.121468   \n",
      "20130103   7.555368 -10.951109 -2.391194 -0.284879  2.710904 -1.378869   \n",
      "20130104   7.380538 -10.050537 -3.675916  1.638377  2.332644  0.610044   \n",
      "20130105   7.389496  -7.858804 -3.157701 -1.307389  2.557700  0.431949   \n",
      "\n",
      "                 6         7         8         9  ...      2038      2039  \\\n",
      "20130101 -1.438060  0.716551  3.222975 -1.491041  ... -0.066616  0.034927   \n",
      "20130102  1.351488  1.792430 -0.812001 -1.764388  ... -0.019680 -0.009342   \n",
      "20130103  0.165945  2.193658 -2.956463  0.340051  ... -0.026055  0.284996   \n",
      "20130104  0.575185  2.279190 -0.802140 -1.236430  ... -0.106318  0.014793   \n",
      "20130105 -0.242018  2.094918  0.823646 -2.035190  ... -0.031707  0.090493   \n",
      "\n",
      "              2040      2041      2042      2043      2044      2045  \\\n",
      "20130101  0.031727 -0.031884 -0.113242  0.003574  0.017633 -0.026924   \n",
      "20130102 -0.068745 -0.176662 -0.094584  0.095433  0.125961 -0.058037   \n",
      "20130103  0.240756 -0.122560  0.034209  0.065936  0.090867  0.119136   \n",
      "20130104  0.064468  0.017858 -0.133863  0.055337 -0.077100 -0.047909   \n",
      "20130105  0.121777  0.096001 -0.173047 -0.111648  0.134817 -0.078974   \n",
      "\n",
      "              2046      2047  \n",
      "20130101  0.068095  0.065840  \n",
      "20130102 -0.036855 -0.086545  \n",
      "20130103  0.026811 -0.183749  \n",
      "20130104  0.024536  0.215032  \n",
      "20130105 -0.025643  0.043548  \n",
      "\n",
      "[5 rows x 2048 columns]\n",
      "(1461, 2048)\n"
     ]
    },
    {
     "name": "stderr",
     "output_type": "stream",
     "text": [
      "C:\\Users\\tsyo\\AppData\\Local\\Continuum\\anaconda3\\lib\\site-packages\\pandas\\core\\indexing.py:1418: FutureWarning: \n",
      "Passing list-likes to .loc or [] with any missing label will raise\n",
      "KeyError in the future, you can use .reindex() as an alternative.\n",
      "\n",
      "See the documentation here:\n",
      "https://pandas.pydata.org/pandas-docs/stable/user_guide/indexing.html#deprecate-loc-reindex-listlike\n",
      "  return self._getitem_tuple(key)\n"
     ]
    }
   ],
   "source": [
    "# PCA\n",
    "tmp = pd.read_csv('D:/workspace/noaa/ws.pca/w256_proj.csv')\n",
    "dates = list(tmp.timestamp)\n",
    "dates = [int(d.replace('.','')) for d in dates]\n",
    "tmp.index = dates\n",
    "fv_pca = tmp.loc[events.index, np.arange(2048).astype('str')]\n",
    "print(fv_pca.head())\n",
    "print(fv_pca.shape)"
   ]
  },
  {
   "cell_type": "markdown",
   "id": "410ceb27",
   "metadata": {},
   "source": [
    "\n",
    "### Convolutional Auto-Encoder\n",
    "> python utils/cae_encode_preproc_gridsatb1.py -i \\[PATH_TO_DATA\\] -o \\[PREFIX_FOR_OUTPUT\\] -m \\[PATH_TO_MODEL\\] \n"
   ]
  },
  {
   "cell_type": "code",
   "execution_count": 3,
   "id": "b3f9dd88",
   "metadata": {},
   "outputs": [
    {
     "name": "stdout",
     "output_type": "stream",
     "text": [
      "                 0    1         2    3         4    5         6    7  \\\n",
      "20130101  0.729401  0.0  0.709286  0.0  0.606639  0.0  0.433708  0.0   \n",
      "20130102  0.530478  0.0  1.175602  0.0  0.779702  0.0  0.934944  0.0   \n",
      "20130103  0.779093  0.0  0.913878  0.0  0.692427  0.0  0.786661  0.0   \n",
      "20130104  0.706526  0.0  0.808630  0.0  0.629371  0.0  0.457699  0.0   \n",
      "20130105  0.612746  0.0  0.688398  0.0  0.703917  0.0  1.020927  0.0   \n",
      "\n",
      "                 8    9  ...      2038  2039      2040  2041      2042  2043  \\\n",
      "20130101  0.921396  0.0  ...  0.442833   0.0  0.441170   0.0  0.549486   0.0   \n",
      "20130102  0.977582  0.0  ...  0.695305   0.0  0.531373   0.0  0.576476   0.0   \n",
      "20130103  0.966315  0.0  ...  0.534694   0.0  0.601885   0.0  0.647570   0.0   \n",
      "20130104  0.489022  0.0  ...  0.593137   0.0  0.661233   0.0  0.652576   0.0   \n",
      "20130105  0.812755  0.0  ...  0.647179   0.0  0.635999   0.0  0.637713   0.0   \n",
      "\n",
      "              2044  2045      2046  2047  \n",
      "20130101  0.573760   0.0  0.635431   0.0  \n",
      "20130102  0.593790   0.0  0.543364   0.0  \n",
      "20130103  0.733207   0.0  0.778467   0.0  \n",
      "20130104  0.581936   0.0  0.649693   0.0  \n",
      "20130105  0.734308   0.0  0.719329   0.0  \n",
      "\n",
      "[5 rows x 2048 columns]\n",
      "(1461, 2048)\n"
     ]
    }
   ],
   "source": [
    "# CAE\n",
    "tmp = pd.read_csv('D:/workspace/noaa/ws.cae/cae256_encoded.csv')\n",
    "dates = list(tmp.timestamp)\n",
    "dates = [int(d.replace('.','')) for d in dates]\n",
    "tmp.index = dates\n",
    "fv_cae = tmp.loc[events.index, np.arange(2048).astype('str')]\n",
    "print(fv_cae.head())\n",
    "print(fv_cae.shape)"
   ]
  },
  {
   "cell_type": "markdown",
   "id": "9873a46e",
   "metadata": {},
   "source": [
    "### Variational Auto-Encoder\n",
    "> python utils/cvae_encode_preproc_gridsatb1.py -i \\[PATH_TO_DATA\\] -o \\[PREFIX_FOR_OUTPUT\\] -m \\[PATH_TO_MODEL\\] \n"
   ]
  },
  {
   "cell_type": "code",
   "execution_count": 4,
   "id": "532c0bfb",
   "metadata": {},
   "outputs": [
    {
     "name": "stdout",
     "output_type": "stream",
     "text": [
      "                 0         1         2         3         4         5  \\\n",
      "20130101  0.414171 -0.466501  0.752024  1.123145 -0.331437 -1.435205   \n",
      "20130102 -1.547030  2.590840  1.038288  2.328560 -1.464619  0.307699   \n",
      "20130103  1.062752  0.015614 -0.039290  1.356836 -0.407510 -0.546152   \n",
      "20130104  0.449923 -0.004109  0.743570  1.791207  0.150745  0.199603   \n",
      "20130105 -0.435087 -2.080692  0.073629  0.404752 -1.289809 -0.265119   \n",
      "\n",
      "                 6         7         8         9  ...      2038      2039  \\\n",
      "20130101  1.552950 -0.028973 -1.523870 -0.214476  ...  0.039675  1.934730   \n",
      "20130102 -0.806043  1.047620  1.701204  0.253724  ...  0.340050 -2.037837   \n",
      "20130103 -3.368214 -0.734818  1.048689  1.018091  ...  0.418223 -0.170373   \n",
      "20130104 -1.170279 -0.008397  0.759227  0.591091  ... -0.916299  0.219440   \n",
      "20130105  1.564287  0.818954  0.542338  0.280204  ...  0.493177 -1.972590   \n",
      "\n",
      "              2040      2041      2042      2043      2044      2045  \\\n",
      "20130101 -1.876483 -0.039899  1.866702 -1.166790 -0.340352 -0.029859   \n",
      "20130102 -0.555775 -0.448334  1.477358  1.333072  1.041250 -1.541767   \n",
      "20130103 -0.610112  1.019114  0.551732 -1.932387 -1.699811  2.183512   \n",
      "20130104  0.131758 -0.610376  1.461926 -0.919016  0.948452  0.351896   \n",
      "20130105 -0.121187 -0.085146 -0.152433 -2.149773  0.521339  0.781159   \n",
      "\n",
      "              2046      2047  \n",
      "20130101 -0.520086 -0.769646  \n",
      "20130102  1.186986  0.609435  \n",
      "20130103  1.419682  0.107851  \n",
      "20130104  1.211341  1.356204  \n",
      "20130105  0.827702 -0.380043  \n",
      "\n",
      "[5 rows x 2048 columns]\n",
      "(1461, 2048)\n"
     ]
    }
   ],
   "source": [
    "# CVAE\n",
    "tmp = pd.read_csv('D:/workspace/noaa/ws.cvae/cvae256_encoded.csv')\n",
    "dates = list(tmp.timestamp)\n",
    "dates = [int(d.replace('.','')) for d in dates]\n",
    "tmp.index = dates\n",
    "fv_cvae = tmp.loc[events.index, np.arange(2048).astype('str')]\n",
    "print(fv_cvae.head())\n",
    "print(fv_cvae.shape)"
   ]
  },
  {
   "cell_type": "markdown",
   "id": "9b7bf4f9",
   "metadata": {},
   "source": [
    "### Pre-trained ResNet50\n",
    "\n",
    "- [ResNet50 for bigearth net](https://tfhub.dev/google/remote_sensing/bigearthnet-resnet50/1)\n",
    "> python ../utils/pretrained_encode_preproc_gridsatb1.py -i ../data/256/ -o rn50bigearth -m \"https://tfhub.dev/google/remote_sensing/bigearthnet-resnet50/1\" -b 128\n",
    "\n",
    "\n",
    "- [Feature vectors of images with ResNet 50](https://tfhub.dev/tensorflow/resnet_50/feature_vector/1)\n",
    "> python ../utils/pretrained2_encode_preproc_gridsatb1.py -i ../data/256/ -o rn50bigearth -b 128"
   ]
  },
  {
   "cell_type": "code",
   "execution_count": 5,
   "id": "8495f3d0",
   "metadata": {},
   "outputs": [
    {
     "name": "stdout",
     "output_type": "stream",
     "text": [
      "                 0         1         2        3         4         5         6  \\\n",
      "20130101  0.910615  0.022137  0.033863  0.00000  0.227198  0.083715  0.132397   \n",
      "20130102  1.191630  0.017410  0.017347  0.00000  0.199252  0.011307  0.131674   \n",
      "20130103  1.306608  0.057959  0.019189  0.02313  0.465368  0.101091  0.082207   \n",
      "20130104  1.419659  0.035566  0.000000  0.00000  0.136999  0.147608  0.258210   \n",
      "20130105  1.204523  0.064296  0.031918  0.00000  0.145212  0.036379  0.105308   \n",
      "\n",
      "                 7         8         9  ...      2038      2039      2040  \\\n",
      "20130101  0.202215  0.966795  0.097639  ...  0.218303  0.695137  0.069968   \n",
      "20130102  0.276117  1.002557  0.040593  ...  0.112136  0.479326  0.021380   \n",
      "20130103  0.539429  1.222262  0.488504  ...  0.032564  0.756178  0.017557   \n",
      "20130104  0.276583  1.239150  0.271416  ...  0.304184  0.385106  0.013154   \n",
      "20130105  0.393798  0.725334  0.102611  ...  0.199956  0.930488  0.071619   \n",
      "\n",
      "              2041      2042      2043      2044      2045      2046      2047  \n",
      "20130101  0.044635  0.028955  0.070214  0.001278  1.177250  0.507776  0.000000  \n",
      "20130102  0.055927  0.000000  0.075427  0.003826  1.936406  0.732746  0.000000  \n",
      "20130103  0.060500  0.000000  0.235218  0.011883  2.572166  0.780624  0.000778  \n",
      "20130104  0.063822  0.041379  0.147054  0.065092  2.260654  0.677031  0.000000  \n",
      "20130105  0.060486  0.000000  0.055743  0.082626  2.858974  0.651664  0.006190  \n",
      "\n",
      "[5 rows x 2048 columns]\n",
      "(1461, 2048)\n"
     ]
    }
   ],
   "source": [
    "# Pre-trained with Big-Earth dataset\n",
    "tmp = pd.read_csv('D:/workspace/noaa/ws.pretr/rn50bigearth_features.csv')\n",
    "dates = list(tmp.timestamp)\n",
    "dates = [int(d.replace('.','')) for d in dates]\n",
    "tmp.index = dates\n",
    "fv_ptbe = tmp.loc[events.index, np.arange(2048).astype('str')]\n",
    "print(fv_ptbe.head())\n",
    "print(fv_ptbe.shape)"
   ]
  },
  {
   "cell_type": "code",
   "execution_count": 6,
   "id": "cc4d1131",
   "metadata": {},
   "outputs": [
    {
     "name": "stdout",
     "output_type": "stream",
     "text": [
      "                 0         1    2         3         4         5    6  \\\n",
      "20130101  0.073251  0.159820  0.0  2.294162  0.686011  0.007495  0.0   \n",
      "20130102  0.233406  0.037223  0.0  1.995400  0.210638  0.000000  0.0   \n",
      "20130103  0.461574  0.304058  0.0  1.916351  0.848359  0.000000  0.0   \n",
      "20130104  0.055840  0.043495  0.0  2.017454  0.301700  0.000000  0.0   \n",
      "20130105  0.159815  0.080647  0.0  1.476036  0.031678  0.000000  0.0   \n",
      "\n",
      "                 7         8    9  ...      2038      2039      2040  \\\n",
      "20130101  0.228225  0.000000  0.0  ...  0.041753  0.000000  0.000000   \n",
      "20130102  0.052133  0.000000  0.0  ...  0.000000  0.000000  0.000000   \n",
      "20130103  0.102642  0.000817  0.0  ...  0.000000  0.000000  0.755562   \n",
      "20130104  0.371948  0.044949  0.0  ...  0.316018  0.000000  0.003577   \n",
      "20130105  0.176256  0.005338  0.0  ...  0.000000  0.001598  0.000000   \n",
      "\n",
      "              2041      2042      2043      2044      2045      2046      2047  \n",
      "20130101  0.021072  0.146149  0.000000  0.000000  0.000000  0.000000  0.000000  \n",
      "20130102  0.009241  0.017892  0.000000  0.000000  0.019642  0.006540  0.157904  \n",
      "20130103  0.017467  0.414300  0.009318  0.024022  0.075691  0.030557  0.446130  \n",
      "20130104  0.045847  0.277001  0.000000  0.000000  0.343384  0.003717  0.299004  \n",
      "20130105  0.146984  0.313200  0.000000  0.235841  0.268306  0.000000  0.002844  \n",
      "\n",
      "[5 rows x 2048 columns]\n",
      "(1461, 2048)\n"
     ]
    }
   ],
   "source": [
    "# Pre-trained with Big-Earth dataset\n",
    "tmp = pd.read_csv('D:/workspace/noaa/ws.pretr/rn50imagenet_features.csv')\n",
    "dates = list(tmp.timestamp)\n",
    "dates = [int(d.replace('.','')) for d in dates]\n",
    "tmp.index = dates\n",
    "fv_ptin = tmp.loc[events.index, np.arange(2048).astype('str')]\n",
    "print(fv_ptin.head())\n",
    "print(fv_ptin.shape)"
   ]
  },
  {
   "cell_type": "code",
   "execution_count": 7,
   "id": "561ef860",
   "metadata": {},
   "outputs": [],
   "source": [
    "# Save feature vectors\n",
    "fv_pca.to_csv('../data/fv_pca.csv')\n",
    "fv_cae.to_csv('../data/fv_cae.csv')\n",
    "fv_cvae.to_csv('../data/fv_cvae.csv')\n",
    "fv_ptbe.to_csv('../data/fv_ptbe.csv')\n",
    "fv_ptin.to_csv('../data/fv_ptin.csv')"
   ]
  },
  {
   "cell_type": "code",
   "execution_count": null,
   "id": "bcc2d91b",
   "metadata": {},
   "outputs": [],
   "source": []
  }
 ],
 "metadata": {
  "kernelspec": {
   "display_name": "Python 3",
   "language": "python",
   "name": "python3"
  },
  "language_info": {
   "codemirror_mode": {
    "name": "ipython",
    "version": 3
   },
   "file_extension": ".py",
   "mimetype": "text/x-python",
   "name": "python",
   "nbconvert_exporter": "python",
   "pygments_lexer": "ipython3",
   "version": "3.7.10"
  }
 },
 "nbformat": 4,
 "nbformat_minor": 5
}

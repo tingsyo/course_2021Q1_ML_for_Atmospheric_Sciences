{
 "cells": [
  {
   "cell_type": "markdown",
   "id": "2e89a412",
   "metadata": {},
   "source": [
    "# Data-flow for Experiments\n",
    "\n",
    "After testing with the previous notebooks, we are about to wrap up with a concrete plan of experiments.\n",
    "\n",
    "## Input Data: NOAA GridSat in East Asia\n",
    "\n",
    "### Raw Data\n",
    "The details of the data is described in the [official document](https://developers.google.com/earth-engine/datasets/catalog/NOAA_CDR_GRIDSAT-B1_V2).\n",
    "\n",
    "The downloaded NOAA-GridSta-B1 image are stored in netCDF4 format (.nc file). The main variable, brightness temperature data, was stored in int16 as 'irwin_cdr', with a scale factor of 0.01 and offset of 200. The missing values is flagged as -31999.\n",
    "\n",
    "### Preprocessing\n",
    "1. Read raw data: -70' to 69.93'N, -180' to 179.94'E, with 0.07' intervals. shape=(2000, 5143)\n",
    "2. Crop to East Asia region (100-160E, 0-60N) -> shape=(858,858) \n",
    "3. Resize the cropped data into a domain of (2^N, 2^N) for better processing. (using opencv2)\n",
    "    - cv2.resize(512,512) -> (512,512)\n",
    "    - cv2.resize(256,256) -> (256,256)\n",
    "4. Rescale the values of white temperature to (0,1). (divided by the max value)\n",
    "\n",
    "\n",
    "## Output Data: Rainfall in Taiwan Area\n",
    "\n",
    "The maximal rainfall in an area (Taipei basin) is categorized into *no-rain*, *precipitation lower than 5% (<10mm/hr)*, and *precipitation higher than 5% (>=10mm/hr)*.\n",
    "\n",
    "\n",
    "\n",
    "## Methods\n",
    "\n",
    "Feature extraction (dimension reduction) with generalized linear model (logistic regression).\n",
    "\n",
    "### Principle Component Analysis\n",
    "> python utils/ipca_transform_preproc_gridsatb1.py -i \\[PATH_TO_DATA\\] -o \\[PREFIX_FOR_OUTPUT\\] -m \\[PATH_TO_MODEL\\] \n",
    "\n",
    "\n",
    "### Convolutional Auto-Encoder\n",
    "> python utils/cae_encode_preproc_gridsatb1.py -i \\[PATH_TO_DATA\\] -o \\[PREFIX_FOR_OUTPUT\\] -m \\[PATH_TO_MODEL\\] \n",
    "\n",
    "\n",
    "### Variational Auto-Encoder\n",
    "> python utils/cvae_encode_preproc_gridsatb1.py -i \\[PATH_TO_DATA\\] -o \\[PREFIX_FOR_OUTPUT\\] -m \\[PATH_TO_MODEL\\] \n",
    "\n",
    "\n",
    "\n",
    "### Pre-trained ResNet50\n",
    "\n",
    "- [ResNet50 for bigearth net](https://tfhub.dev/google/remote_sensing/bigearthnet-resnet50/1)\n",
    "> python ../utils/pretrained_encode_preproc_gridsatb1.py -i ../data/256/ -o rn50bigearth -m \"https://tfhub.dev/google/remote_sensing/bigearthnet-resnet50/1\" -b 128\n",
    "\n",
    "\n",
    "- [Feature vectors of images with ResNet 50](https://tfhub.dev/tensorflow/resnet_50/feature_vector/1)\n",
    "> python ../utils/pretrained2_encode_preproc_gridsatb1.py -i ../data/256/ -o rn50bigearth -b 128\n",
    "\n"
   ]
  },
  {
   "cell_type": "code",
   "execution_count": null,
   "id": "6ca5c587",
   "metadata": {},
   "outputs": [],
   "source": []
  }
 ],
 "metadata": {
  "kernelspec": {
   "display_name": "Python 3",
   "language": "python",
   "name": "python3"
  },
  "language_info": {
   "codemirror_mode": {
    "name": "ipython",
    "version": 3
   },
   "file_extension": ".py",
   "mimetype": "text/x-python",
   "name": "python",
   "nbconvert_exporter": "python",
   "pygments_lexer": "ipython3",
   "version": "3.7.10"
  }
 },
 "nbformat": 4,
 "nbformat_minor": 5
}

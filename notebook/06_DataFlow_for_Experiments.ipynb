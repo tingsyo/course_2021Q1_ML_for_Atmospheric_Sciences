{
 "cells": [
  {
   "cell_type": "markdown",
   "id": "dfbdf4c9",
   "metadata": {},
   "source": [
    "# Data-flow for Experiments\n",
    "\n",
    "After testing with the previous notebooks, we are about to wrap up with a concrete plan of experiments.\n",
    "\n",
    "## Input Data: NOAA GridSat in East Asia\n",
    "\n",
    "### Raw Data\n",
    "\n",
    "\n",
    "### Preprocessing\n",
    "\n",
    "\n",
    "\n",
    "## Output Data: Rainfall in Taiwan Area\n",
    "\n",
    "The maximal rainfall in an area (Taipei basin) is categorized into *no-rain*, *precipitation lower than 5% (<10mm/hr)*, and *precipitation higher than 5% (>=10mm/hr)*.\n",
    "\n",
    "\n",
    "\n",
    "## Methods\n",
    "\n",
    "Feature extraction (dimension reduction) with generalized linear model (logistic regression).\n",
    "\n",
    "### Principle Component Analysis\n",
    "\n",
    "\n",
    "### Auto-Encoder\n",
    "\n",
    "\n",
    "### Pre-trained ResNet50\n",
    "\n",
    "\n",
    "\n",
    "\n",
    "\n"
   ]
  },
  {
   "cell_type": "code",
   "execution_count": null,
   "id": "1d996a54",
   "metadata": {},
   "outputs": [],
   "source": []
  }
 ],
 "metadata": {
  "kernelspec": {
   "display_name": "Python 3",
   "language": "python",
   "name": "python3"
  },
  "language_info": {
   "codemirror_mode": {
    "name": "ipython",
    "version": 3
   },
   "file_extension": ".py",
   "mimetype": "text/x-python",
   "name": "python",
   "nbconvert_exporter": "python",
   "pygments_lexer": "ipython3",
   "version": "3.7.10"
  }
 },
 "nbformat": 4,
 "nbformat_minor": 5
}
